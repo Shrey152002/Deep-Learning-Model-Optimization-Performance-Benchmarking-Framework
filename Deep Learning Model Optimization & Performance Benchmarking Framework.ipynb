{
  "nbformat": 4,
  "nbformat_minor": 0,
  "metadata": {
    "colab": {
      "provenance": [],
      "gpuType": "T4"
    },
    "kernelspec": {
      "name": "python3",
      "display_name": "Python 3"
    },
    "language_info": {
      "name": "python"
    },
    "accelerator": "GPU"
  },
  "cells": [
    {
      "cell_type": "code",
      "source": [
        "import os\n",
        "import time\n",
        "import torch\n",
        "import torch.nn as nn\n",
        "import torch.optim as optim\n",
        "import torchvision\n",
        "import torchvision.transforms as transforms\n",
        "from torch.utils.data import DataLoader\n",
        "import matplotlib.pyplot as plt\n",
        "import numpy as np\n",
        "from tqdm import tqdm\n",
        "import pandas as pd\n"
      ],
      "metadata": {
        "id": "tkcw4rtrpgew"
      },
      "execution_count": 16,
      "outputs": []
    },
    {
      "cell_type": "code",
      "source": [
        "\n",
        "# Set random seed for reproducibility\n",
        "torch.manual_seed(42)\n",
        "\n",
        "# Check if GPU is available\n",
        "device_gpu = torch.device(\"cuda:0\" if torch.cuda.is_available() else \"cpu\")\n",
        "device_cpu = torch.device(\"cpu\")\n",
        "print(f\"GPU device: {device_gpu}\")\n",
        "print(f\"CPU device: {device_cpu}\")\n"
      ],
      "metadata": {
        "colab": {
          "base_uri": "https://localhost:8080/"
        },
        "id": "5VywfX6bphcV",
        "outputId": "d4d3fec0-efb4-49fd-dc37-d1e4b2476570"
      },
      "execution_count": 17,
      "outputs": [
        {
          "output_type": "stream",
          "name": "stdout",
          "text": [
            "GPU device: cuda:0\n",
            "CPU device: cpu\n"
          ]
        }
      ]
    },
    {
      "cell_type": "code",
      "source": [
        "\n",
        "# Check if BFloat16 is supported on CPU (compatible with different PyTorch versions)\n",
        "try:\n",
        "    # Try newer PyTorch versions\n",
        "    if hasattr(torch.cpu, 'is_bf16_supported'):\n",
        "        bf16_supported = torch.cpu.is_bf16_supported()\n",
        "    # Try alternate method for older versions\n",
        "    elif hasattr(torch, 'is_bf16_supported'):\n",
        "        bf16_supported = torch.is_bf16_supported()\n",
        "    else:\n",
        "        # Fall back to checking if we can create a bf16 tensor\n",
        "        try:\n",
        "            test_tensor = torch.zeros(1, dtype=torch.bfloat16)\n",
        "            bf16_supported = True\n",
        "        except:\n",
        "            bf16_supported = False\n",
        "except:\n",
        "    bf16_supported = False\n",
        "\n",
        "print(f\"BFloat16 supported on CPU: {bf16_supported}\")"
      ],
      "metadata": {
        "colab": {
          "base_uri": "https://localhost:8080/"
        },
        "id": "kOhiD-HnplZ_",
        "outputId": "eda2730f-7edc-4f16-e4b0-2917ad27337d"
      },
      "execution_count": 18,
      "outputs": [
        {
          "output_type": "stream",
          "name": "stdout",
          "text": [
            "BFloat16 supported on CPU: True\n"
          ]
        }
      ]
    },
    {
      "cell_type": "code",
      "source": [
        "\n",
        "# Define a simple CNN model using reshape instead of view\n",
        "class SimpleCNN(nn.Module):\n",
        "    def __init__(self):\n",
        "        super(SimpleCNN, self).__init__()\n",
        "        self.conv1 = nn.Conv2d(3, 16, kernel_size=3, padding=1)\n",
        "        self.relu1 = nn.ReLU()\n",
        "        self.pool1 = nn.MaxPool2d(2)\n",
        "        self.conv2 = nn.Conv2d(16, 32, kernel_size=3, padding=1)\n",
        "        self.relu2 = nn.ReLU()\n",
        "        self.pool2 = nn.MaxPool2d(2)\n",
        "        # Changed to use Flatten instead of manually reshaping\n",
        "        self.flatten = nn.Flatten()\n",
        "        self.fc1 = nn.Linear(32 * 8 * 8, 128)\n",
        "        self.relu3 = nn.ReLU()\n",
        "        self.fc2 = nn.Linear(128, 10)\n",
        "\n",
        "    def forward(self, x):\n",
        "        x = self.pool1(self.relu1(self.conv1(x)))\n",
        "        x = self.pool2(self.relu2(self.conv2(x)))\n",
        "        # Use flatten instead of view to handle any memory layout\n",
        "        x = self.flatten(x)\n",
        "        x = self.relu3(self.fc1(x))\n",
        "        x = self.fc2(x)\n",
        "        return x\n",
        "\n",
        "# Function to get CIFAR-10 dataset\n",
        "def get_dataset():\n",
        "    transform = transforms.Compose([\n",
        "        transforms.ToTensor(),\n",
        "        transforms.Normalize((0.5, 0.5, 0.5), (0.5, 0.5, 0.5))\n",
        "    ])\n",
        "\n",
        "    train_dataset = torchvision.datasets.CIFAR10(\n",
        "        root='./data', train=True, download=True, transform=transform\n",
        "    )\n",
        "\n",
        "    test_dataset = torchvision.datasets.CIFAR10(\n",
        "        root='./data', train=False, download=True, transform=transform\n",
        "    )\n",
        "\n",
        "    return train_dataset, test_dataset\n",
        "\n",
        "# Function to create data loaders with various configurations\n",
        "def create_dataloaders(train_dataset, test_dataset, batch_size, num_workers):\n",
        "    train_loader = DataLoader(\n",
        "        train_dataset,\n",
        "        batch_size=batch_size,\n",
        "        shuffle=True,\n",
        "        num_workers=num_workers\n",
        "    )\n",
        "\n",
        "    test_loader = DataLoader(\n",
        "        test_dataset,\n",
        "        batch_size=batch_size,\n",
        "        shuffle=False,\n",
        "        num_workers=num_workers\n",
        "    )\n",
        "\n",
        "    return train_loader, test_loader\n"
      ],
      "metadata": {
        "id": "Mc3tfbOlpnCw"
      },
      "execution_count": 19,
      "outputs": []
    },
    {
      "cell_type": "code",
      "source": [
        "\n",
        "# Function to train the model on GPU\n",
        "def train_model_gpu(model, train_loader, criterion, optimizer, num_epochs=1):\n",
        "    model.train()\n",
        "    model = model.to(device_gpu)\n",
        "\n",
        "    for epoch in range(num_epochs):\n",
        "        running_loss = 0.0\n",
        "        for i, data in enumerate(train_loader, 0):\n",
        "            inputs, labels = data\n",
        "            inputs, labels = inputs.to(device_gpu), labels.to(device_gpu)\n",
        "\n",
        "            optimizer.zero_grad()\n",
        "            outputs = model(inputs)\n",
        "            loss = criterion(outputs, labels)\n",
        "            loss.backward()\n",
        "            optimizer.step()\n",
        "\n",
        "            running_loss += loss.item()\n",
        "\n",
        "        print(f\"GPU Training - Epoch {epoch+1}, Loss: {running_loss/len(train_loader):.4f}\")\n",
        "\n",
        "    return model\n",
        "\n",
        "# Function to evaluate model accuracy\n",
        "def evaluate_model(model, test_loader, device):\n",
        "    model.eval()\n",
        "    model = model.to(device)\n",
        "\n",
        "    correct = 0\n",
        "    total = 0\n",
        "\n",
        "    with torch.no_grad():\n",
        "        for data in test_loader:\n",
        "            images, labels = data\n",
        "            images, labels = images.to(device), labels.to(device)\n",
        "\n",
        "            outputs = model(images)\n",
        "            _, predicted = torch.max(outputs.data, 1)\n",
        "\n",
        "            total += labels.size(0)\n",
        "            correct += (predicted == labels).sum().item()\n",
        "\n",
        "    accuracy = 100 * correct / total\n",
        "    print(f\"Accuracy on {device}: {accuracy:.2f}%\")\n",
        "    return accuracy\n",
        "\n",
        "# Function to benchmark model performance (FPS)\n",
        "def benchmark_fps(model, test_loader, device, use_channels_last=False, use_amp=False):\n",
        "    model.eval()\n",
        "    model = model.to(device)\n",
        "\n",
        "    # Apply channels_last memory format if specified\n",
        "    if use_channels_last and device == torch.device(\"cpu\"):\n",
        "        model = model.to(memory_format=torch.channels_last)\n",
        "\n",
        "    total_samples = 0\n",
        "    start_time = time.time()\n",
        "\n",
        "    with torch.no_grad():\n",
        "        for data in tqdm(test_loader):\n",
        "            images, _ = data\n",
        "            images = images.to(device)\n",
        "\n",
        "            # Apply channels_last to input if specified\n",
        "            if use_channels_last and device == torch.device(\"cpu\"):\n",
        "                images = images.to(memory_format=torch.channels_last)\n",
        "\n",
        "            # Use AMP if specified\n",
        "            if use_amp and device == torch.device(\"cpu\") and bf16_supported:\n",
        "                if hasattr(torch.amp, 'autocast'):\n",
        "                    with torch.amp.autocast(device_type='cpu', dtype=torch.bfloat16):\n",
        "                        _ = model(images)\n",
        "                else:\n",
        "                    # Fallback for older PyTorch versions without device_type parameter\n",
        "                    _ = model(images.to(torch.bfloat16))\n",
        "            else:\n",
        "                _ = model(images)\n",
        "\n",
        "            total_samples += images.size(0)\n",
        "\n",
        "    end_time = time.time()\n",
        "    elapsed_time = end_time - start_time\n",
        "    fps = total_samples / elapsed_time\n",
        "\n",
        "    settings = f\"{'Channels Last' if use_channels_last else 'Channels First'}\"\n",
        "    settings += f\", {'BF16 AMP' if use_amp else 'FP32'}\"\n",
        "\n",
        "    print(f\"Performance on {device} ({settings}): {fps:.2f} samples/sec\")\n",
        "    return fps\n"
      ],
      "metadata": {
        "id": "UBTTGhROpo0U"
      },
      "execution_count": 20,
      "outputs": []
    },
    {
      "cell_type": "code",
      "source": [
        "\n",
        "# Function to monitor CPU/GPU utilization during inference\n",
        "def measure_resource_utilization(model, test_loader, device, num_runs=3):\n",
        "    model.eval()\n",
        "    model = model.to(device)\n",
        "\n",
        "    total_time = 0.0\n",
        "    total_memory = 0.0\n",
        "\n",
        "    for _ in range(num_runs):\n",
        "        # Record peak memory before run\n",
        "        if device == torch.device(\"cuda:0\"):\n",
        "            torch.cuda.reset_peak_memory_stats()\n",
        "            try:\n",
        "                memory_before = torch.cuda.max_memory_allocated() / (1024 ** 2)  # MB\n",
        "            except:\n",
        "                memory_before = 0\n",
        "\n",
        "        start = time.time()\n",
        "\n",
        "        with torch.no_grad():\n",
        "            for data in test_loader:\n",
        "                images, _ = data\n",
        "                images = images.to(device)\n",
        "                _ = model(images)\n",
        "\n",
        "        end = time.time()\n",
        "        total_time += end - start\n",
        "\n",
        "        # Record peak memory after run\n",
        "        if device == torch.device(\"cuda:0\"):\n",
        "            try:\n",
        "                memory_after = torch.cuda.max_memory_allocated() / (1024 ** 2)  # MB\n",
        "                total_memory += memory_after - memory_before\n",
        "            except:\n",
        "                total_memory = 0\n",
        "\n",
        "    avg_time = total_time / num_runs\n",
        "    avg_memory = total_memory / num_runs if device == torch.device(\"cuda:0\") else \"N/A\"\n",
        "\n",
        "    print(f\"Avg. inference time on {device}: {avg_time:.4f} sec\")\n",
        "    if device == torch.device(\"cuda:0\"):\n",
        "        print(f\"Avg. peak memory used on GPU: {avg_memory:.2f} MB\")\n",
        "\n",
        "    return avg_time, avg_memory\n"
      ],
      "metadata": {
        "id": "OTFEDWQ1prRc"
      },
      "execution_count": 21,
      "outputs": []
    },
    {
      "cell_type": "code",
      "source": [
        "# Function to test if torch.compile is available\n",
        "def is_torch_compile_available():\n",
        "    if not hasattr(torch, \"compile\"):\n",
        "        return False\n",
        "    try:\n",
        "        # Test with a tiny model to see if it works\n",
        "        tiny_model = nn.Linear(10, 10)\n",
        "        compiled_tiny = torch.compile(tiny_model, backend=\"inductor\")\n",
        "        return True\n",
        "    except Exception as e:\n",
        "        print(f\"torch.compile not working: {e}\")\n",
        "        return False\n",
        "\n",
        "# Create model\n",
        "model = SimpleCNN()\n",
        "\n",
        "# Get dataset\n",
        "train_dataset, test_dataset = get_dataset()\n",
        "\n",
        "# Define batch sizes to test - use smaller set for demo\n",
        "batch_sizes = [32, 64]\n",
        "\n",
        "# Define number of workers to test - use smaller set for demo\n",
        "num_workers_list = [0, 1]\n",
        "\n",
        "# Initialize results collection\n",
        "results = []\n",
        "\n",
        "# Test different combinations of batch size and workers\n",
        "for batch_size in batch_sizes:\n",
        "    for num_workers in num_workers_list:\n",
        "        print(f\"\\n=== Testing with batch_size={batch_size}, num_workers={num_workers} ===\")\n",
        "\n",
        "        # Create data loaders\n",
        "        train_loader, test_loader = create_dataloaders(\n",
        "            train_dataset, test_dataset, batch_size, num_workers\n",
        "        )\n",
        "\n",
        "        # Train model on GPU (if available)\n",
        "        if device_gpu.type == \"cuda\":\n",
        "            print(\"Training on GPU...\")\n",
        "            criterion = nn.CrossEntropyLoss()\n",
        "            optimizer = optim.SGD(model.parameters(), lr=0.01, momentum=0.9)\n",
        "            try:\n",
        "                model = train_model_gpu(model, train_loader, criterion, optimizer)\n",
        "            except Exception as e:\n",
        "                print(f\"Error during GPU training: {e}\")\n",
        "                # Reinitialize model if training fails\n",
        "                model = SimpleCNN()\n",
        "        else:\n",
        "            print(\"GPU not available, using CPU-initialized model\")\n",
        "\n",
        "        # 1. Benchmark GPU (original model)\n",
        "        if device_gpu.type == \"cuda\":\n",
        "            try:\n",
        "                gpu_accuracy = evaluate_model(model, test_loader, device_gpu)\n",
        "                gpu_fps = benchmark_fps(model, test_loader, device_gpu)\n",
        "                gpu_time, gpu_memory = measure_resource_utilization(model, test_loader, device_gpu)\n",
        "            except Exception as e:\n",
        "                print(f\"Error during GPU benchmarking: {e}\")\n",
        "                gpu_accuracy = gpu_fps = gpu_time = gpu_memory = \"Error\"\n",
        "        else:\n",
        "            gpu_accuracy = gpu_fps = gpu_time = gpu_memory = \"N/A\"\n",
        "\n",
        "        # 2. Benchmark CPU (baseline, no optimization)\n",
        "        try:\n",
        "            cpu_accuracy = evaluate_model(model, test_loader, device_cpu)\n",
        "            cpu_fps_baseline = benchmark_fps(model, test_loader, device_cpu)\n",
        "            cpu_time_baseline, _ = measure_resource_utilization(model, test_loader, device_cpu)\n",
        "        except Exception as e:\n",
        "            print(f\"Error during CPU baseline benchmarking: {e}\")\n",
        "            cpu_accuracy = cpu_fps_baseline = cpu_time_baseline = \"Error\"\n",
        "\n",
        "        # 3. Benchmark CPU with channels_last memory format\n",
        "        try:\n",
        "            cpu_fps_channels_last = benchmark_fps(model, test_loader, device_cpu, use_channels_last=True)\n",
        "        except Exception as e:\n",
        "            print(f\"Error with channels_last: {e}\")\n",
        "            cpu_fps_channels_last = \"Error\"\n",
        "\n",
        "        # 4. Benchmark CPU with AMP (bfloat16)\n",
        "        if bf16_supported:\n",
        "            try:\n",
        "                cpu_fps_amp = benchmark_fps(model, test_loader, device_cpu, use_amp=True)\n",
        "            except Exception as e:\n",
        "                print(f\"Error with AMP: {e}\")\n",
        "                cpu_fps_amp = \"Error\"\n",
        "\n",
        "            try:\n",
        "                cpu_fps_amp_channels_last = benchmark_fps(model, test_loader, device_cpu, use_channels_last=True, use_amp=True)\n",
        "            except Exception as e:\n",
        "                print(f\"Error with AMP + channels_last: {e}\")\n",
        "                cpu_fps_amp_channels_last = \"Error\"\n",
        "        else:\n",
        "            cpu_fps_amp = cpu_fps_amp_channels_last = \"Not supported\"\n",
        "\n",
        "        # Try with torch.compile if torch version supports it\n",
        "        torch_compile_available = is_torch_compile_available()\n",
        "        if torch_compile_available:\n",
        "            print(\"\\nTesting with torch.compile...\")\n",
        "            try:\n",
        "                compiled_model = torch.compile(model, backend=\"inductor\")\n",
        "                compiled_model = compiled_model.to(device_cpu)\n",
        "\n",
        "                # Warmup\n",
        "                with torch.no_grad():\n",
        "                    for data in [next(iter(test_loader))]:\n",
        "                        images, _ = data\n",
        "                        images = images.to(device_cpu)\n",
        "                        _ = compiled_model(images)\n",
        "\n",
        "                # Benchmark compiled model\n",
        "                cpu_fps_compiled = benchmark_fps(compiled_model, test_loader, device_cpu)\n",
        "            except Exception as e:\n",
        "                print(f\"Error with torch.compile: {e}\")\n",
        "                cpu_fps_compiled = \"Error\"\n",
        "        else:\n",
        "            cpu_fps_compiled = \"Not available\"\n",
        "\n",
        "        # Save results\n",
        "        result = {\n",
        "            \"Batch Size\": batch_size,\n",
        "            \"Num Workers\": num_workers,\n",
        "            \"GPU Accuracy\": gpu_accuracy,\n",
        "            \"GPU FPS\": gpu_fps,\n",
        "            \"GPU Time (s)\": gpu_time,\n",
        "            \"GPU Memory (MB)\": gpu_memory,\n",
        "            \"CPU Accuracy\": cpu_accuracy,\n",
        "            \"CPU FPS (Baseline)\": cpu_fps_baseline,\n",
        "            \"CPU Time (s)\": cpu_time_baseline,\n",
        "            \"CPU FPS (Channels Last)\": cpu_fps_channels_last,\n",
        "            \"CPU FPS (AMP)\": cpu_fps_amp,\n",
        "            \"CPU FPS (AMP + Channels Last)\": cpu_fps_amp_channels_last,\n",
        "            \"CPU FPS (Compiled)\": cpu_fps_compiled\n",
        "        }\n",
        "\n",
        "        results.append(result)\n"
      ],
      "metadata": {
        "colab": {
          "base_uri": "https://localhost:8080/"
        },
        "id": "E6CpJ9D0ptF9",
        "outputId": "204edc05-4884-4e70-e7f8-d0d8f072c5fd"
      },
      "execution_count": 22,
      "outputs": [
        {
          "output_type": "stream",
          "name": "stdout",
          "text": [
            "\n",
            "=== Testing with batch_size=32, num_workers=0 ===\n",
            "Training on GPU...\n",
            "GPU Training - Epoch 1, Loss: 1.4686\n",
            "Accuracy on cuda:0: 57.99%\n"
          ]
        },
        {
          "output_type": "stream",
          "name": "stderr",
          "text": [
            "100%|██████████| 313/313 [00:02<00:00, 114.97it/s]\n"
          ]
        },
        {
          "output_type": "stream",
          "name": "stdout",
          "text": [
            "Performance on cuda:0 (Channels First, FP32): 3668.16 samples/sec\n",
            "Avg. inference time on cuda:0: 3.3751 sec\n",
            "Avg. peak memory used on GPU: 4.25 MB\n",
            "Accuracy on cpu: 57.99%\n"
          ]
        },
        {
          "output_type": "stream",
          "name": "stderr",
          "text": [
            "100%|██████████| 313/313 [00:05<00:00, 61.10it/s]\n"
          ]
        },
        {
          "output_type": "stream",
          "name": "stdout",
          "text": [
            "Performance on cpu (Channels First, FP32): 1950.93 samples/sec\n",
            "Avg. inference time on cpu: 5.2892 sec\n"
          ]
        },
        {
          "output_type": "stream",
          "name": "stderr",
          "text": [
            "100%|██████████| 313/313 [00:04<00:00, 63.57it/s]\n"
          ]
        },
        {
          "output_type": "stream",
          "name": "stdout",
          "text": [
            "Performance on cpu (Channels Last, FP32): 2029.79 samples/sec\n"
          ]
        },
        {
          "output_type": "stream",
          "name": "stderr",
          "text": [
            "100%|██████████| 313/313 [00:04<00:00, 65.03it/s]\n"
          ]
        },
        {
          "output_type": "stream",
          "name": "stdout",
          "text": [
            "Performance on cpu (Channels First, BF16 AMP): 2075.80 samples/sec\n"
          ]
        },
        {
          "output_type": "stream",
          "name": "stderr",
          "text": [
            "100%|██████████| 313/313 [00:05<00:00, 62.34it/s]\n"
          ]
        },
        {
          "output_type": "stream",
          "name": "stdout",
          "text": [
            "Performance on cpu (Channels Last, BF16 AMP): 1989.40 samples/sec\n",
            "\n",
            "Testing with torch.compile...\n"
          ]
        },
        {
          "output_type": "stream",
          "name": "stderr",
          "text": [
            "100%|██████████| 313/313 [00:13<00:00, 22.41it/s]"
          ]
        },
        {
          "output_type": "stream",
          "name": "stdout",
          "text": [
            "Performance on cpu (Channels First, FP32): 715.85 samples/sec\n",
            "\n",
            "=== Testing with batch_size=32, num_workers=1 ===\n",
            "Training on GPU...\n"
          ]
        },
        {
          "output_type": "stream",
          "name": "stderr",
          "text": [
            "\n"
          ]
        },
        {
          "output_type": "stream",
          "name": "stdout",
          "text": [
            "GPU Training - Epoch 1, Loss: 1.0468\n",
            "Accuracy on cuda:0: 64.19%\n"
          ]
        },
        {
          "output_type": "stream",
          "name": "stderr",
          "text": [
            "100%|██████████| 313/313 [00:04<00:00, 74.01it/s]"
          ]
        },
        {
          "output_type": "stream",
          "name": "stdout",
          "text": [
            "Performance on cuda:0 (Channels First, FP32): 2362.77 samples/sec\n"
          ]
        },
        {
          "output_type": "stream",
          "name": "stderr",
          "text": [
            "\n"
          ]
        },
        {
          "output_type": "stream",
          "name": "stdout",
          "text": [
            "Avg. inference time on cuda:0: 3.7241 sec\n",
            "Avg. peak memory used on GPU: 4.25 MB\n",
            "Accuracy on cpu: 64.19%\n"
          ]
        },
        {
          "output_type": "stream",
          "name": "stderr",
          "text": [
            "100%|██████████| 313/313 [00:04<00:00, 72.04it/s]"
          ]
        },
        {
          "output_type": "stream",
          "name": "stdout",
          "text": [
            "Performance on cpu (Channels First, FP32): 2300.03 samples/sec\n"
          ]
        },
        {
          "output_type": "stream",
          "name": "stderr",
          "text": [
            "\n"
          ]
        },
        {
          "output_type": "stream",
          "name": "stdout",
          "text": [
            "Avg. inference time on cpu: 4.7605 sec\n"
          ]
        },
        {
          "output_type": "stream",
          "name": "stderr",
          "text": [
            "100%|██████████| 313/313 [00:05<00:00, 59.24it/s]\n"
          ]
        },
        {
          "output_type": "stream",
          "name": "stdout",
          "text": [
            "Performance on cpu (Channels Last, FP32): 1890.75 samples/sec\n"
          ]
        },
        {
          "output_type": "stream",
          "name": "stderr",
          "text": [
            "100%|██████████| 313/313 [00:04<00:00, 64.73it/s]\n"
          ]
        },
        {
          "output_type": "stream",
          "name": "stdout",
          "text": [
            "Performance on cpu (Channels First, BF16 AMP): 2066.03 samples/sec\n"
          ]
        },
        {
          "output_type": "stream",
          "name": "stderr",
          "text": [
            "100%|██████████| 313/313 [00:05<00:00, 52.90it/s]"
          ]
        },
        {
          "output_type": "stream",
          "name": "stdout",
          "text": [
            "Performance on cpu (Channels Last, BF16 AMP): 1688.87 samples/sec\n",
            "\n",
            "Testing with torch.compile...\n"
          ]
        },
        {
          "output_type": "stream",
          "name": "stderr",
          "text": [
            "\n",
            "100%|██████████| 313/313 [00:04<00:00, 72.63it/s]\n"
          ]
        },
        {
          "output_type": "stream",
          "name": "stdout",
          "text": [
            "Performance on cpu (Channels First, FP32): 2318.57 samples/sec\n",
            "\n",
            "=== Testing with batch_size=64, num_workers=0 ===\n",
            "Training on GPU...\n",
            "GPU Training - Epoch 1, Loss: 0.7969\n",
            "Accuracy on cuda:0: 69.33%\n"
          ]
        },
        {
          "output_type": "stream",
          "name": "stderr",
          "text": [
            "100%|██████████| 157/157 [00:03<00:00, 51.41it/s]\n"
          ]
        },
        {
          "output_type": "stream",
          "name": "stdout",
          "text": [
            "Performance on cuda:0 (Channels First, FP32): 3268.85 samples/sec\n",
            "Avg. inference time on cuda:0: 2.5560 sec\n",
            "Avg. peak memory used on GPU: 8.62 MB\n",
            "Accuracy on cpu: 69.33%\n"
          ]
        },
        {
          "output_type": "stream",
          "name": "stderr",
          "text": [
            "100%|██████████| 157/157 [00:03<00:00, 42.63it/s]\n"
          ]
        },
        {
          "output_type": "stream",
          "name": "stdout",
          "text": [
            "Performance on cpu (Channels First, FP32): 2713.34 samples/sec\n",
            "Avg. inference time on cpu: 3.9011 sec\n"
          ]
        },
        {
          "output_type": "stream",
          "name": "stderr",
          "text": [
            "100%|██████████| 157/157 [00:03<00:00, 43.16it/s]\n"
          ]
        },
        {
          "output_type": "stream",
          "name": "stdout",
          "text": [
            "Performance on cpu (Channels Last, FP32): 2746.93 samples/sec\n"
          ]
        },
        {
          "output_type": "stream",
          "name": "stderr",
          "text": [
            "100%|██████████| 157/157 [00:05<00:00, 29.54it/s]\n"
          ]
        },
        {
          "output_type": "stream",
          "name": "stdout",
          "text": [
            "Performance on cpu (Channels First, BF16 AMP): 1879.93 samples/sec\n"
          ]
        },
        {
          "output_type": "stream",
          "name": "stderr",
          "text": [
            "100%|██████████| 157/157 [00:04<00:00, 33.33it/s]\n"
          ]
        },
        {
          "output_type": "stream",
          "name": "stdout",
          "text": [
            "Performance on cpu (Channels Last, BF16 AMP): 2120.97 samples/sec\n",
            "\n",
            "Testing with torch.compile...\n"
          ]
        },
        {
          "output_type": "stream",
          "name": "stderr",
          "text": [
            "100%|██████████| 157/157 [00:03<00:00, 46.97it/s]"
          ]
        },
        {
          "output_type": "stream",
          "name": "stdout",
          "text": [
            "Performance on cpu (Channels First, FP32): 2988.83 samples/sec\n",
            "\n",
            "=== Testing with batch_size=64, num_workers=1 ===\n",
            "Training on GPU...\n"
          ]
        },
        {
          "output_type": "stream",
          "name": "stderr",
          "text": [
            "\n"
          ]
        },
        {
          "output_type": "stream",
          "name": "stdout",
          "text": [
            "GPU Training - Epoch 1, Loss: 0.6876\n",
            "Accuracy on cuda:0: 69.57%\n"
          ]
        },
        {
          "output_type": "stream",
          "name": "stderr",
          "text": [
            "100%|██████████| 157/157 [00:03<00:00, 50.56it/s]"
          ]
        },
        {
          "output_type": "stream",
          "name": "stdout",
          "text": [
            "Performance on cuda:0 (Channels First, FP32): 3216.49 samples/sec\n"
          ]
        },
        {
          "output_type": "stream",
          "name": "stderr",
          "text": [
            "\n"
          ]
        },
        {
          "output_type": "stream",
          "name": "stdout",
          "text": [
            "Avg. inference time on cuda:0: 3.2415 sec\n",
            "Avg. peak memory used on GPU: 8.62 MB\n",
            "Accuracy on cpu: 69.57%\n"
          ]
        },
        {
          "output_type": "stream",
          "name": "stderr",
          "text": [
            "100%|██████████| 157/157 [00:04<00:00, 31.67it/s]"
          ]
        },
        {
          "output_type": "stream",
          "name": "stdout",
          "text": [
            "Performance on cpu (Channels First, FP32): 2016.28 samples/sec\n"
          ]
        },
        {
          "output_type": "stream",
          "name": "stderr",
          "text": [
            "\n"
          ]
        },
        {
          "output_type": "stream",
          "name": "stdout",
          "text": [
            "Avg. inference time on cpu: 4.1735 sec\n"
          ]
        },
        {
          "output_type": "stream",
          "name": "stderr",
          "text": [
            "100%|██████████| 157/157 [00:03<00:00, 39.55it/s]\n"
          ]
        },
        {
          "output_type": "stream",
          "name": "stdout",
          "text": [
            "Performance on cpu (Channels Last, FP32): 2516.97 samples/sec\n"
          ]
        },
        {
          "output_type": "stream",
          "name": "stderr",
          "text": [
            "100%|██████████| 157/157 [00:04<00:00, 36.56it/s]\n"
          ]
        },
        {
          "output_type": "stream",
          "name": "stdout",
          "text": [
            "Performance on cpu (Channels First, BF16 AMP): 2326.54 samples/sec\n"
          ]
        },
        {
          "output_type": "stream",
          "name": "stderr",
          "text": [
            "100%|██████████| 157/157 [00:05<00:00, 29.07it/s]"
          ]
        },
        {
          "output_type": "stream",
          "name": "stdout",
          "text": [
            "Performance on cpu (Channels Last, BF16 AMP): 1850.20 samples/sec\n",
            "\n",
            "Testing with torch.compile...\n"
          ]
        },
        {
          "output_type": "stream",
          "name": "stderr",
          "text": [
            "\n",
            "100%|██████████| 157/157 [00:03<00:00, 41.30it/s]"
          ]
        },
        {
          "output_type": "stream",
          "name": "stdout",
          "text": [
            "Performance on cpu (Channels First, FP32): 2628.46 samples/sec\n"
          ]
        },
        {
          "output_type": "stream",
          "name": "stderr",
          "text": [
            "\n"
          ]
        }
      ]
    },
    {
      "cell_type": "code",
      "source": [
        "\n",
        "# Create DataFrame with results\n",
        "df_results = pd.DataFrame(results)\n",
        "print(\"\\nResults Summary:\")\n",
        "print(df_results)\n",
        "\n",
        "# Save results to CSV\n",
        "df_results.to_csv(\"model_conversion_results.csv\", index=False)\n",
        "\n",
        "# Helper function to safely convert values for plotting\n",
        "def safe_convert_to_float(value):\n",
        "    if isinstance(value, (int, float)):\n",
        "        return value\n",
        "    return None\n",
        "\n",
        "\n"
      ],
      "metadata": {
        "colab": {
          "base_uri": "https://localhost:8080/"
        },
        "id": "Bixftc3ppz5L",
        "outputId": "a893a202-52cb-482f-b9c5-788a658bd235"
      },
      "execution_count": 26,
      "outputs": [
        {
          "output_type": "stream",
          "name": "stdout",
          "text": [
            "\n",
            "Results Summary:\n",
            "   Batch Size  Num Workers  GPU Accuracy      GPU FPS  GPU Time (s)  \\\n",
            "0          32            0         57.99  3668.162890      3.375131   \n",
            "1          32            1         64.19  2362.769197      3.724088   \n",
            "2          64            0         69.33  3268.845214      2.556045   \n",
            "3          64            1         69.57  3216.485371      3.241512   \n",
            "\n",
            "   GPU Memory (MB)  CPU Accuracy  CPU FPS (Baseline)  CPU Time (s)  \\\n",
            "0            4.250         57.99         1950.933350      5.289170   \n",
            "1            4.250         64.19         2300.025647      4.760463   \n",
            "2            8.625         69.33         2713.341557      3.901099   \n",
            "3            8.625         69.57         2016.283894      4.173547   \n",
            "\n",
            "   CPU FPS (Channels Last)  CPU FPS (AMP)  CPU FPS (AMP + Channels Last)  \\\n",
            "0              2029.793505    2075.796928                    1989.399083   \n",
            "1              1890.747253    2066.026078                    1688.871122   \n",
            "2              2746.931506    1879.926831                    2120.971035   \n",
            "3              2516.967295    2326.543875                    1850.198756   \n",
            "\n",
            "   CPU FPS (Compiled)  \n",
            "0          715.853026  \n",
            "1         2318.566524  \n",
            "2         2988.833802  \n",
            "3         2628.459301  \n"
          ]
        }
      ]
    },
    {
      "cell_type": "code",
      "source": [
        "# Improved visualization code for GPU vs CPU comparison\n",
        "plt.figure(figsize=(14, 8))\n",
        "x = range(len(results))\n",
        "\n",
        "# Create separate plots for GPU and CPU to handle different scales\n",
        "fig, (ax1, ax2) = plt.subplots(1, 2, figsize=(16, 8))\n",
        "\n",
        "# Plot configurations on x-axis\n",
        "config_labels = [f\"BS={r['Batch Size']}, W={r['Num Workers']}\" for r in results]\n",
        "\n",
        "# GPU plot (left side)\n",
        "if device_gpu.type == \"cuda\":\n",
        "    gpu_fps_values = [safe_convert_to_float(r[\"GPU FPS\"]) for r in results]\n",
        "    if any(fps is not None for fps in gpu_fps_values):\n",
        "        ax1.bar(x, gpu_fps_values, width=0.8, color='crimson')\n",
        "        ax1.set_title(\"GPU Performance (FPS)\")\n",
        "        ax1.set_xticks(x)\n",
        "        ax1.set_xticklabels(config_labels, rotation=45)\n",
        "        ax1.set_ylabel(\"Frames Per Second\")\n",
        "        ax1.grid(True, alpha=0.3)\n",
        "\n",
        "# CPU plot with optimizations (right side)\n",
        "cpu_techniques = [\n",
        "    (\"Baseline\", \"CPU FPS (Baseline)\", \"royalblue\"),\n",
        "    (\"Channels Last\", \"CPU FPS (Channels Last)\", \"lightseagreen\"),\n",
        "    (\"AMP\", \"CPU FPS (AMP)\", \"darkviolet\"),\n",
        "    (\"AMP + Channels Last\", \"CPU FPS (AMP + Channels Last)\", \"orange\"),\n",
        "    (\"Compiled\", \"CPU FPS (Compiled)\", \"forestgreen\")\n",
        "]\n",
        "\n",
        "width = 0.15  # width of bars\n",
        "offsets = np.linspace(-0.3, 0.3, len(cpu_techniques))\n",
        "\n",
        "for i, (label, key, color) in enumerate(cpu_techniques):\n",
        "    values = [safe_convert_to_float(r[key]) for r in results]\n",
        "    if any(v is not None for v in values):\n",
        "        ax2.bar([pos + offsets[i] for pos in x], values, width=width, label=label, color=color)\n",
        "\n",
        "ax2.set_title(\"CPU Optimizations Performance (FPS)\")\n",
        "ax2.set_xticks(x)\n",
        "ax2.set_xticklabels(config_labels, rotation=45)\n",
        "ax2.set_ylabel(\"Frames Per Second\")\n",
        "ax2.legend()\n",
        "ax2.grid(True, alpha=0.3)\n",
        "\n",
        "plt.tight_layout()\n",
        "plt.savefig(\"improved_performance_comparison.png\", dpi=300)\n",
        "plt.close()\n",
        "\n",
        "# Additional visualization: Normalized comparison (GPU vs best CPU option)\n",
        "plt.figure(figsize=(10, 6))\n",
        "gpu_fps = [safe_convert_to_float(r[\"GPU FPS\"]) for r in results]\n",
        "\n",
        "# Find best CPU performance for each configuration\n",
        "best_cpu_fps = []\n",
        "for r in results:\n",
        "    cpu_values = [\n",
        "        safe_convert_to_float(r[\"CPU FPS (Baseline)\"]),\n",
        "        safe_convert_to_float(r[\"CPU FPS (Channels Last)\"]),\n",
        "        safe_convert_to_float(r[\"CPU FPS (AMP)\"]),\n",
        "        safe_convert_to_float(r[\"CPU FPS (AMP + Channels Last)\"]),\n",
        "        safe_convert_to_float(r[\"CPU FPS (Compiled)\"])\n",
        "    ]\n",
        "    cpu_values = [v for v in cpu_values if v is not None]\n",
        "    best_cpu_fps.append(max(cpu_values) if cpu_values else None)\n",
        "\n",
        "# Calculate speedup of GPU over best CPU option\n",
        "speedups = []\n",
        "for i in range(len(results)):\n",
        "    if gpu_fps[i] is not None and best_cpu_fps[i] is not None and best_cpu_fps[i] > 0:\n",
        "        speedups.append((gpu_fps[i] / best_cpu_fps[i], config_labels[i]))\n",
        "\n",
        "if speedups:\n",
        "    speedup_values = [s[0] for s in speedups]\n",
        "    speedup_labels = [s[1] for s in speedups]\n",
        "\n",
        "    plt.bar(range(len(speedups)), speedup_values, color='darkred')\n",
        "    plt.axhline(y=1.0, color='black', linestyle='--', alpha=0.5)\n",
        "    plt.xticks(range(len(speedups)), speedup_labels, rotation=45)\n",
        "    plt.ylabel(\"GPU Speedup Factor vs. Best CPU Option\")\n",
        "    plt.title(\"GPU vs Best CPU Performance Ratio\")\n",
        "    plt.grid(True, alpha=0.3)\n",
        "    plt.tight_layout()\n",
        "    plt.savefig(\"gpu_cpu_speedup_ratio.png\", dpi=300)\n",
        "\n",
        "print(\"Improved visualizations created!\")"
      ],
      "metadata": {
        "colab": {
          "base_uri": "https://localhost:8080/",
          "height": 642
        },
        "id": "5aSHsbNxsrHm",
        "outputId": "5a88f823-1faa-478b-b58f-e6487cb56e2b"
      },
      "execution_count": 25,
      "outputs": [
        {
          "output_type": "stream",
          "name": "stdout",
          "text": [
            "Improved visualizations created!\n"
          ]
        },
        {
          "output_type": "display_data",
          "data": {
            "text/plain": [
              "<Figure size 1400x800 with 0 Axes>"
            ]
          },
          "metadata": {}
        },
        {
          "output_type": "display_data",
          "data": {
            "text/plain": [
              "<Figure size 1000x600 with 1 Axes>"
            ],
            "image/png": "[encoded data removed]"
          },
          "metadata": {}
        }
      ]
    },
    {
      "cell_type": "code",
      "source": [
        "# Plot GPU performance if available\n",
        "if device_gpu.type == \"cuda\":\n",
        "    gpu_fps_values = [safe_convert_to_float(r[\"GPU FPS\"]) for r in results]\n",
        "    if any(fps is not None for fps in gpu_fps_values):\n",
        "        plt.bar(x, gpu_fps_values, width=0.1, label=\"GPU\")\n",
        "\n",
        "# Plot CPU performance with different optimizations\n",
        "cpu_baseline_values = [safe_convert_to_float(r[\"CPU FPS (Baseline)\"]) for r in results]\n",
        "if any(fps is not None for fps in cpu_baseline_values):\n",
        "    plt.bar([i + 0.1 for i in x], cpu_baseline_values, width=0.1, label=\"CPU (Baseline)\")\n",
        "\n",
        "# Plot CPU with Channels Last if available\n",
        "cpu_channels_last_values = [safe_convert_to_float(r[\"CPU FPS (Channels Last)\"]) for r in results]\n",
        "if any(fps is not None for fps in cpu_channels_last_values):\n",
        "    plt.bar([i + 0.2 for i in x], cpu_channels_last_values, width=0.1, label=\"CPU (Channels Last)\")\n",
        "\n",
        "# Plot CPU with AMP if supported and available\n",
        "cpu_amp_values = [safe_convert_to_float(r[\"CPU FPS (AMP)\"]) for r in results]\n",
        "if any(fps is not None for fps in cpu_amp_values):\n",
        "    plt.bar([i + 0.3 for i in x], cpu_amp_values, width=0.1, label=\"CPU (AMP)\")\n",
        "\n",
        "# Plot CPU with AMP + Channels Last if available\n",
        "cpu_amp_cl_values = [safe_convert_to_float(r[\"CPU FPS (AMP + Channels Last)\"]) for r in results]\n",
        "if any(fps is not None for fps in cpu_amp_cl_values):\n",
        "    plt.bar([i + 0.4 for i in x], cpu_amp_cl_values, width=0.1, label=\"CPU (AMP + Channels Last)\")\n",
        "\n",
        "# Plot compiled model results if available\n",
        "cpu_compiled_values = [safe_convert_to_float(r[\"CPU FPS (Compiled)\"]) for r in results]\n",
        "if any(fps is not None for fps in cpu_compiled_values):\n",
        "    plt.bar([i + 0.5 for i in x], cpu_compiled_values, width=0.1, label=\"CPU (Compiled)\")\n",
        "\n",
        "plt.xticks([i + 0.25 for i in x], [f\"BS={r['Batch Size']}, W={r['Num Workers']}\" for r in results], rotation=45)\n",
        "plt.legend()\n",
        "plt.grid(True, alpha=0.3)\n",
        "plt.tight_layout()\n",
        "plt.savefig(\"performance_comparison.png\")\n",
        "plt.close()\n",
        "\n",
        "# Create a visual representation of the speedup\n",
        "plt.figure(figsize=(10, 6))\n",
        "speedups = []\n",
        "labels = []\n",
        "\n",
        "for i, row in df_results.iterrows():\n",
        "    baseline = safe_convert_to_float(row[\"CPU FPS (Baseline)\"])\n",
        "    if baseline is not None and baseline > 0:\n",
        "        config = f\"BS={row['Batch Size']}, W={row['Num Workers']}\"\n",
        "\n",
        "        # Calculate speedups for optimizations that worked\n",
        "        channels_last = safe_convert_to_float(row[\"CPU FPS (Channels Last)\"])\n",
        "        if channels_last is not None:\n",
        "            speedups.append(channels_last / baseline)\n",
        "            labels.append(f\"Channels Last\\n{config}\")\n",
        "\n",
        "        amp = safe_convert_to_float(row[\"CPU FPS (AMP)\"])\n",
        "        if amp is not None:\n",
        "            speedups.append(amp / baseline)\n",
        "            labels.append(f\"AMP\\n{config}\")\n",
        "\n",
        "        amp_cl = safe_convert_to_float(row[\"CPU FPS (AMP + Channels Last)\"])\n",
        "        if amp_cl is not None:\n",
        "            speedups.append(amp_cl / baseline)\n",
        "            labels.append(f\"AMP + Channels Last\\n{config}\")\n",
        "\n",
        "        compiled = safe_convert_to_float(row[\"CPU FPS (Compiled)\"])\n",
        "        if compiled is not None:\n",
        "            speedups.append(compiled / baseline)\n",
        "            labels.append(f\"Compiled\\n{config}\")\n",
        "\n",
        "if speedups:\n",
        "    plt.bar(range(len(speedups)), speedups)\n",
        "    plt.axhline(y=1.0, color='r', linestyle='-', alpha=0.5)\n",
        "    plt.xticks(range(len(speedups)), labels, rotation=45)\n",
        "    plt.ylabel(\"Speedup Factor (relative to baseline)\")\n",
        "    plt.title(\"CPU Optimization Speedup Factors\")\n",
        "    plt.grid(True, alpha=0.3)\n",
        "    plt.tight_layout()\n",
        "    plt.savefig(\"optimization_speedups.png\")\n",
        "\n",
        "print(\"\\nAnalysis complete! Results saved to CSV and visualizations saved as PNGs.\")\n"
      ],
      "metadata": {
        "colab": {
          "base_uri": "https://localhost:8080/",
          "height": 642
        },
        "id": "srHqdiiQp3A6",
        "outputId": "39dac52a-7493-4be6-e982-89c31d614f92"
      },
      "execution_count": 24,
      "outputs": [
        {
          "output_type": "stream",
          "name": "stdout",
          "text": [
            "\n",
            "Analysis complete! Results saved to CSV and visualizations saved as PNGs.\n"
          ]
        },
        {
          "output_type": "display_data",
          "data": {
            "text/plain": [
              "<Figure size 1000x600 with 1 Axes>"
            ],
            "image/png": "[encoded data removed]"
          },
          "metadata": {}
        }
      ]
    },
    {
      "cell_type": "markdown",
      "source": [
        "Best Optimized CPU Configuration\n",
        "Based on the results, the torch.compile optimization with BS=64, W=0 appears to be the best-performing CPU configuration, reaching around 2989 FPS. This nearly matches GPU performance in some scenarios.\n",
        "Logic Behind Each CPU Optimization Technique\n",
        "1. Channels Last Memory Format\n",
        "What it is: A memory layout optimization where tensor data is stored in NHWC format (batch, height, width, channels) instead of the default NCHW format.\n",
        "Logic: This format aligns better with how CPU SIMD instructions process data, particularly for convolutional operations. Modern CPUs can process data more efficiently when channels are stored contiguously in memory, allowing better vectorization of operations.\n",
        "When it works best: Your results show it works well with larger batch sizes (BS=64), offering 5-10% improvement in some cases.\n",
        "2. Automatic Mixed Precision (AMP) with BFloat16\n",
        "What it is: Using lower precision (BFloat16) for certain operations while maintaining computational accuracy.\n",
        "Logic: BFloat16 requires half the memory bandwidth of FP32, allowing for faster data movement. Many modern CPUs (especially Intel CPUs with AVX-512 instructions) have hardware acceleration for BFloat16 operations, making matrix multiplications significantly faster.\n",
        "When it works best: Your results show mixed performance, but it's most effective when properly matched with the specific CPU architecture's capabilities.\n",
        "3. AMP + Channels Last Combined\n",
        "What it is: Combining both memory layout optimization and mixed precision.\n",
        "Logic: This theoretically combines the benefits of both approaches - better memory access patterns and reduced memory bandwidth requirements.\n",
        "When it works best: Your results show it works better with larger batch sizes (BS=64), but the combination doesn't always yield additive performance improvements.\n",
        "4. Torch Compile (Most Effective)\n",
        "What it is: PyTorch 2.0's compilation technology that optimizes your model's computational graph.\n",
        "Logic: Torch compile uses the \"inductor\" backend to:\n",
        "\n",
        "Analyze your model's execution graph\n",
        "Fuse operations to reduce memory traffic\n",
        "Apply hardware-specific optimizations\n",
        "Generate optimized code on-the-fly for your specific operations\n",
        "\n",
        "When it works best: Your results show it's extremely effective with BS=64, W=0, where it achieved the highest CPU performance. It works well when operations can be fused and redundant memory accesses eliminated.\n",
        "Why Optimization Effectiveness Varies\n",
        "\n",
        "Batch Size Effects: Larger batch sizes (BS=64) generally benefit more from optimizations because:\n",
        "\n",
        "They amortize overhead costs across more examples\n",
        "They better utilize CPU vector instructions\n",
        "They reduce the relative impact of Python overhead\n",
        "\n",
        "\n",
        "Worker Count Impact: Worker counts show inconsistent effects because:\n",
        "\n",
        "More workers help with data loading but can cause resource contention\n",
        "The ideal worker count depends on your specific CPU core count and memory configuration\n",
        "With small models, data loading might not be the bottleneck\n",
        "\n",
        "\n",
        "Hardware Dependencies: Some optimizations are highly dependent on:\n",
        "\n",
        "CPU type (Intel vs AMD)\n",
        "Instruction set support (AVX-512, AVX2, etc.)\n",
        "Memory bandwidth and cache hierarchy"
      ],
      "metadata": {
        "id": "BbS0RicntqP-"
      }
    }
  ]
}